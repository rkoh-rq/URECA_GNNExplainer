{
  "nbformat": 4,
  "nbformat_minor": 0,
  "metadata": {
    "colab": {
      "name": "RemoveNodesFromGNNExplainer.ipynb",
      "provenance": [],
      "collapsed_sections": []
    },
    "kernelspec": {
      "name": "python3",
      "display_name": "Python 3"
    },
    "accelerator": "GPU"
  },
  "cells": [
    {
      "cell_type": "code",
      "metadata": {
        "colab": {
          "base_uri": "https://localhost:8080/"
        },
        "id": "21BbipgQ7B0z",
        "outputId": "30491b93-013d-4bac-f8d1-1d3e0600489e"
      },
      "source": [
        "# Colab compatitbility\n",
        "from google.colab import drive\n",
        "drive.mount('/content/drive')\n",
        " \n",
        "%cd /content/drive/My\\ Drive/Colab\\ Notebooks/URECA/GNNExplainer"
      ],
      "execution_count": null,
      "outputs": [
        {
          "output_type": "stream",
          "text": [
            "Mounted at /content/drive\n",
            "/content/drive/My Drive/Colab Notebooks/URECA/GNNExplainer\n"
          ],
          "name": "stdout"
        }
      ]
    },
    {
      "cell_type": "code",
      "metadata": {
        "colab": {
          "base_uri": "https://localhost:8080/"
        },
        "id": "8VIw_yxsF3l1",
        "outputId": "0478b636-1604-41bf-b5f0-8f74bd0e70a1"
      },
      "source": [
        "!pip install tensorboardX"
      ],
      "execution_count": null,
      "outputs": [
        {
          "output_type": "stream",
          "text": [
            "Collecting tensorboardX\n",
            "\u001b[?25l  Downloading https://files.pythonhosted.org/packages/af/0c/4f41bcd45db376e6fe5c619c01100e9b7531c55791b7244815bac6eac32c/tensorboardX-2.1-py2.py3-none-any.whl (308kB)\n",
            "\r\u001b[K     |█                               | 10kB 22.7MB/s eta 0:00:01\r\u001b[K     |██▏                             | 20kB 12.9MB/s eta 0:00:01\r\u001b[K     |███▏                            | 30kB 12.1MB/s eta 0:00:01\r\u001b[K     |████▎                           | 40kB 11.8MB/s eta 0:00:01\r\u001b[K     |█████▎                          | 51kB 8.7MB/s eta 0:00:01\r\u001b[K     |██████▍                         | 61kB 7.8MB/s eta 0:00:01\r\u001b[K     |███████▍                        | 71kB 8.7MB/s eta 0:00:01\r\u001b[K     |████████▌                       | 81kB 9.6MB/s eta 0:00:01\r\u001b[K     |█████████▌                      | 92kB 9.1MB/s eta 0:00:01\r\u001b[K     |██████████▋                     | 102kB 8.3MB/s eta 0:00:01\r\u001b[K     |███████████▊                    | 112kB 8.3MB/s eta 0:00:01\r\u001b[K     |████████████▊                   | 122kB 8.3MB/s eta 0:00:01\r\u001b[K     |█████████████▉                  | 133kB 8.3MB/s eta 0:00:01\r\u001b[K     |██████████████▉                 | 143kB 8.3MB/s eta 0:00:01\r\u001b[K     |████████████████                | 153kB 8.3MB/s eta 0:00:01\r\u001b[K     |█████████████████               | 163kB 8.3MB/s eta 0:00:01\r\u001b[K     |██████████████████              | 174kB 8.3MB/s eta 0:00:01\r\u001b[K     |███████████████████             | 184kB 8.3MB/s eta 0:00:01\r\u001b[K     |████████████████████▏           | 194kB 8.3MB/s eta 0:00:01\r\u001b[K     |█████████████████████▎          | 204kB 8.3MB/s eta 0:00:01\r\u001b[K     |██████████████████████▎         | 215kB 8.3MB/s eta 0:00:01\r\u001b[K     |███████████████████████▍        | 225kB 8.3MB/s eta 0:00:01\r\u001b[K     |████████████████████████▍       | 235kB 8.3MB/s eta 0:00:01\r\u001b[K     |█████████████████████████▌      | 245kB 8.3MB/s eta 0:00:01\r\u001b[K     |██████████████████████████▌     | 256kB 8.3MB/s eta 0:00:01\r\u001b[K     |███████████████████████████▋    | 266kB 8.3MB/s eta 0:00:01\r\u001b[K     |████████████████████████████▋   | 276kB 8.3MB/s eta 0:00:01\r\u001b[K     |█████████████████████████████▊  | 286kB 8.3MB/s eta 0:00:01\r\u001b[K     |██████████████████████████████▊ | 296kB 8.3MB/s eta 0:00:01\r\u001b[K     |███████████████████████████████▉| 307kB 8.3MB/s eta 0:00:01\r\u001b[K     |████████████████████████████████| 317kB 8.3MB/s \n",
            "\u001b[?25hRequirement already satisfied: numpy in /usr/local/lib/python3.6/dist-packages (from tensorboardX) (1.18.5)\n",
            "Requirement already satisfied: six in /usr/local/lib/python3.6/dist-packages (from tensorboardX) (1.15.0)\n",
            "Requirement already satisfied: protobuf>=3.8.0 in /usr/local/lib/python3.6/dist-packages (from tensorboardX) (3.12.4)\n",
            "Requirement already satisfied: setuptools in /usr/local/lib/python3.6/dist-packages (from protobuf>=3.8.0->tensorboardX) (50.3.2)\n",
            "Installing collected packages: tensorboardX\n",
            "Successfully installed tensorboardX-2.1\n"
          ],
          "name": "stdout"
        }
      ]
    },
    {
      "cell_type": "code",
      "metadata": {
        "id": "4OYnEuL39RcN"
      },
      "source": [
        "import argparse\n",
        "import os\n",
        "\n",
        "import sklearn.metrics as metrics\n",
        "\n",
        "from tensorboardX import SummaryWriter\n",
        "\n",
        "import pickle\n",
        "import shutil\n",
        "import torch\n",
        "\n",
        "import models\n",
        "import utils.io_utils as io_utils\n",
        "import utils.parser_utils as parser_utils\n",
        "from explainer import explain\n",
        "\n",
        "import gengraph\n",
        "from utils import featgen\n",
        "import numpy as np"
      ],
      "execution_count": null,
      "outputs": []
    },
    {
      "cell_type": "code",
      "metadata": {
        "id": "SAKt2sEpFpF3"
      },
      "source": [
        "class Args():\n",
        "  pass\n",
        "argObj = Args()\n",
        "argObj.gpu = False\n",
        "argObj.method = True\n",
        "argObj.bias = True"
      ],
      "execution_count": null,
      "outputs": []
    },
    {
      "cell_type": "code",
      "metadata": {
        "id": "HdzME8h9Fl2o",
        "colab": {
          "base_uri": "https://localhost:8080/"
        },
        "outputId": "76e4e315-e3e3-42f8-a89f-1662b61fe727"
      },
      "source": [
        "writer = None\n",
        "\n",
        "# Load a model checkpoint\n",
        "ckpt = torch.load(\"ckpt/syn1_base_h20_o20.pth.tar\")\n",
        "cg_dict = ckpt[\"cg\"] # get computation graph\n",
        "input_dim = cg_dict[\"feat\"].shape[2] \n",
        "num_classes = cg_dict[\"pred\"].shape[2]\n",
        "\n",
        "# build model\n",
        "model = models.GcnEncoderNode(\n",
        "    input_dim=input_dim,\n",
        "    hidden_dim=20,\n",
        "    embedding_dim=20,\n",
        "    label_dim=num_classes,\n",
        "    num_layers=3,\n",
        "    bn=False,\n",
        "    args=argObj,\n",
        ")\n",
        "\n",
        "# load state_dict (obtained by model.state_dict() when saving checkpoint)\n",
        "model.load_state_dict(ckpt[\"model_state\"])\n",
        "\n",
        "G, labels, name = gengraph.gen_syn1(\n",
        "        feature_generator=featgen.ConstFeatureGen(np.ones(input_dim, dtype=float)))\n",
        "num_classes = max(labels) + 1\n",
        "\n",
        "data = gengraph.preprocess_input_graph(G, labels)\n",
        "\n",
        "adj_ = torch.tensor(data[\"adj\"], dtype=torch.float)\n",
        "x_ = torch.tensor(data[\"feat\"], dtype=torch.float)"
      ],
      "execution_count": null,
      "outputs": [
        {
          "output_type": "stream",
          "text": [
            "Using CPU\n",
            "feat_dict[0][\"feat\"]: float32\n",
            "G.nodes[0][\"feat\"]: float32\n"
          ],
          "name": "stdout"
        }
      ]
    },
    {
      "cell_type": "code",
      "metadata": {
        "id": "XHjp13X8Lf17"
      },
      "source": [
        "model.zero_grad()\n",
        "# not sure why adj_ varies from adj\n",
        "output_ = model(x_, adj_)\n",
        "\n",
        "adj = torch.tensor(cg_dict[\"adj\"], dtype=torch.float)\n",
        "x = torch.tensor(cg_dict[\"feat\"], dtype=torch.float)\n",
        "output = model(x, adj)"
      ],
      "execution_count": null,
      "outputs": []
    },
    {
      "cell_type": "code",
      "metadata": {
        "colab": {
          "base_uri": "https://localhost:8080/"
        },
        "id": "JyItZL8-iAo4",
        "outputId": "ccefc4e5-030d-4045-be5b-3400e5f389de"
      },
      "source": [
        "metrics.accuracy_score(labels, output[0][0].argmax(1))"
      ],
      "execution_count": null,
      "outputs": [
        {
          "output_type": "execute_result",
          "data": {
            "text/plain": [
              "0.9885714285714285"
            ]
          },
          "metadata": {
            "tags": []
          },
          "execution_count": 154
        }
      ]
    },
    {
      "cell_type": "code",
      "metadata": {
        "colab": {
          "base_uri": "https://localhost:8080/"
        },
        "id": "1RpQtGNNhuKI",
        "outputId": "6809f46b-afe0-4c1d-c8c6-b4d0606e968a"
      },
      "source": [
        "metrics.accuracy_score(labels, output_[0][0].argmax(1))"
      ],
      "execution_count": null,
      "outputs": [
        {
          "output_type": "execute_result",
          "data": {
            "text/plain": [
              "0.9785714285714285"
            ]
          },
          "metadata": {
            "tags": []
          },
          "execution_count": 155
        }
      ]
    },
    {
      "cell_type": "code",
      "metadata": {
        "id": "MjCzqaE6iNvV"
      },
      "source": [
        "full_pred = output[0][0].argmax(1)"
      ],
      "execution_count": null,
      "outputs": []
    },
    {
      "cell_type": "markdown",
      "metadata": {
        "id": "-4SjrPB6lTHA"
      },
      "source": [
        "# With subgraph\n",
        "\n"
      ]
    },
    {
      "cell_type": "code",
      "metadata": {
        "id": "Yj9vx211lak1"
      },
      "source": [
        "import utils.graph_utils as graph_utils"
      ],
      "execution_count": null,
      "outputs": []
    },
    {
      "cell_type": "markdown",
      "metadata": {
        "id": "N9Pyi619lXoI"
      },
      "source": [
        "Load masks"
      ]
    },
    {
      "cell_type": "code",
      "metadata": {
        "id": "yp9P9WbLlXoI"
      },
      "source": [
        "logdir = './log/'\n",
        "expdir = 'syn1_base_h20_o20_explain'\n",
        "\n",
        "dirs = os.listdir(os.path.join(logdir, expdir))\n",
        "\n",
        "masks = []\n",
        "for file in dirs:\n",
        "    if file.split('.')[-1] == 'npy':\n",
        "        print(file)\n",
        "        masks.append(file)"
      ],
      "execution_count": null,
      "outputs": []
    },
    {
      "cell_type": "code",
      "metadata": {
        "colab": {
          "base_uri": "https://localhost:8080/"
        },
        "id": "byjRWStmlcd1",
        "outputId": "0bbe7994-cfd3-476e-ebfa-1e9906174d81"
      },
      "source": [
        "# adj = torch.tensor(data[\"adj\"], dtype=torch.float)\n",
        "adj = cg_dict[\"adj\"]\n",
        "feat = cg_dict[\"feat\"]\n",
        "\n",
        "neighborhoods = graph_utils.neighborhoods(adj=adj, n_hops=3, use_cuda=True)\n",
        "\n",
        "def extract_neighborhood(node_idx, graph_idx=0):\n",
        "    \"\"\"Returns the neighborhood of a given node.\"\"\"\n",
        "    neighbors_adj_row = neighborhoods[graph_idx][node_idx, :]\n",
        "    # index of the query node in the new adj\n",
        "    node_idx_new = sum(neighbors_adj_row[:node_idx])\n",
        "    neighbors = np.nonzero(neighbors_adj_row)[0]\n",
        "    sub_adj = adj[graph_idx][neighbors][:, neighbors]\n",
        "    sub_feat = feat[graph_idx, neighbors]\n",
        "    sub_label = labels[neighbors]\n",
        "    return node_idx_new, sub_adj, sub_feat, sub_label, neighbors\n",
        "\n",
        "def filter_adj(adj):\n",
        "    filt_adj = adj.copy()\n",
        "    filt_adj[adj>0.8] = -1\n",
        "    return filt_adj\n",
        "\n",
        "np.random.seed(0)\n",
        "\n",
        "# apply mask\n",
        "for m in masks: \n",
        "    adj_mask = np.load(os.path.join(logdir, expdir, m))\n",
        "    node_idx = int(m.split(\"_idx_\")[1].split(\"graph\")[0])\n",
        "    node_idx_new, sub_adj, sub_feat, sub_label, neighbors = extract_neighborhood(node_idx)\n",
        "    \n",
        "    sub_feat = torch.tensor([sub_feat], dtype=torch.float)\n",
        "    sub_adj = torch.tensor([sub_adj], dtype=torch.float)\n",
        "    adj_mask = torch.tensor([adj_mask], dtype=torch.float)\n",
        "\n",
        "    full_pred = model(sub_feat, sub_adj)\n",
        "    full_pred = full_pred[0][0].argmax(1)\n",
        "\n",
        "    GNN_pred = model(sub_feat, sub_adj - adj_mask)\n",
        "    GNN_pred = GNN_pred[0][0].argmax(1)\n",
        "\n",
        "    im_links_to_remove = adj_mask.argmax(1)\n",
        "    im_sub_adj = sub_adj.clone()\n",
        "    im_adj_mask = sub_adj.clone()\n",
        "    i = 0\n",
        "    for l in im_links_to_remove:\n",
        "        im_sub_adj[0][l][i] = 0\n",
        "        im_adj_mask[0][i][l] = 0\n",
        "        im_sub_adj[0][l][i] = 0\n",
        "        im_adj_mask[0][i][l] = 0\n",
        "        i += 1\n",
        "    im_GNN_pred = model(sub_feat, im_sub_adj - im_adj_mask)\n",
        "    im_GNN_pred = im_GNN_pred[0][0].argmax(1)\n",
        "    \n",
        "    print(\"Node index: %d\" %(node_idx))\n",
        "    n = len(neighbors)\n",
        "    acc1 = metrics.accuracy_score(sub_label, full_pred, normalize=False)\n",
        "    acc2 = metrics.accuracy_score(sub_label, GNN_pred, normalize=False)\n",
        "    acc3 = metrics.accuracy_score(sub_label, im_GNN_pred, normalize=False)\n",
        "    print(\"Without GNN: %d / %d (%f)\" %(acc1, n, acc1/n))\n",
        "    print(\"With GNN: %d / %d (%f)\" %(acc2, n, acc2/n))\n",
        "    print(\"With GNN, missing important links: %d / %d (%f)\" %(acc3, n, acc3/n))\n",
        "    print(\"\")"
      ],
      "execution_count": null,
      "outputs": [
        {
          "output_type": "stream",
          "text": [
            "Node index: 400\n",
            "Without GNN: 104 / 109 (0.954128)\n",
            "With GNN: 100 / 109 (0.917431)\n",
            "With GNN, missing important links: 2 / 109 (0.018349)\n",
            "\n",
            "Node index: 405\n",
            "Without GNN: 112 / 126 (0.888889)\n",
            "With GNN: 108 / 126 (0.857143)\n",
            "With GNN, missing important links: 2 / 126 (0.015873)\n",
            "\n",
            "Node index: 410\n",
            "Without GNN: 92 / 112 (0.821429)\n",
            "With GNN: 89 / 112 (0.794643)\n",
            "With GNN, missing important links: 4 / 112 (0.035714)\n",
            "\n",
            "Node index: 415\n",
            "Without GNN: 94 / 111 (0.846847)\n",
            "With GNN: 91 / 111 (0.819820)\n",
            "With GNN, missing important links: 4 / 111 (0.036036)\n",
            "\n",
            "Node index: 420\n",
            "Without GNN: 117 / 128 (0.914062)\n",
            "With GNN: 114 / 128 (0.890625)\n",
            "With GNN, missing important links: 2 / 128 (0.015625)\n",
            "\n",
            "Node index: 425\n",
            "Without GNN: 151 / 164 (0.920732)\n",
            "With GNN: 148 / 164 (0.902439)\n",
            "With GNN, missing important links: 2 / 164 (0.012195)\n",
            "\n",
            "Node index: 430\n",
            "Without GNN: 178 / 188 (0.946809)\n",
            "With GNN: 174 / 188 (0.925532)\n",
            "With GNN, missing important links: 2 / 188 (0.010638)\n",
            "\n",
            "Node index: 435\n",
            "Without GNN: 117 / 132 (0.886364)\n",
            "With GNN: 114 / 132 (0.863636)\n",
            "With GNN, missing important links: 2 / 132 (0.015152)\n",
            "\n",
            "Node index: 440\n",
            "Without GNN: 132 / 148 (0.891892)\n",
            "With GNN: 129 / 148 (0.871622)\n",
            "With GNN, missing important links: 2 / 148 (0.013514)\n",
            "\n",
            "Node index: 445\n",
            "Without GNN: 138 / 149 (0.926174)\n",
            "With GNN: 135 / 149 (0.906040)\n",
            "With GNN, missing important links: 3 / 149 (0.020134)\n",
            "\n",
            "Node index: 450\n",
            "Without GNN: 127 / 144 (0.881944)\n",
            "With GNN: 123 / 144 (0.854167)\n",
            "With GNN, missing important links: 2 / 144 (0.013889)\n",
            "\n",
            "Node index: 455\n",
            "Without GNN: 129 / 139 (0.928058)\n",
            "With GNN: 126 / 139 (0.906475)\n",
            "With GNN, missing important links: 2 / 139 (0.014388)\n",
            "\n",
            "Node index: 460\n",
            "Without GNN: 161 / 171 (0.941520)\n",
            "With GNN: 159 / 171 (0.929825)\n",
            "With GNN, missing important links: 4 / 171 (0.023392)\n",
            "\n",
            "Node index: 465\n",
            "Without GNN: 166 / 175 (0.948571)\n",
            "With GNN: 162 / 175 (0.925714)\n",
            "With GNN, missing important links: 2 / 175 (0.011429)\n",
            "\n",
            "Node index: 470\n",
            "Without GNN: 128 / 144 (0.888889)\n",
            "With GNN: 125 / 144 (0.868056)\n",
            "With GNN, missing important links: 2 / 144 (0.013889)\n",
            "\n",
            "Node index: 475\n",
            "Without GNN: 88 / 99 (0.888889)\n",
            "With GNN: 83 / 99 (0.838384)\n",
            "With GNN, missing important links: 2 / 99 (0.020202)\n",
            "\n",
            "Node index: 480\n",
            "Without GNN: 68 / 86 (0.790698)\n",
            "With GNN: 63 / 86 (0.732558)\n",
            "With GNN, missing important links: 2 / 86 (0.023256)\n",
            "\n",
            "Node index: 485\n",
            "Without GNN: 112 / 124 (0.903226)\n",
            "With GNN: 105 / 124 (0.846774)\n",
            "With GNN, missing important links: 2 / 124 (0.016129)\n",
            "\n",
            "Node index: 490\n",
            "Without GNN: 135 / 146 (0.924658)\n",
            "With GNN: 130 / 146 (0.890411)\n",
            "With GNN, missing important links: 2 / 146 (0.013699)\n",
            "\n",
            "Node index: 495\n",
            "Without GNN: 73 / 98 (0.744898)\n",
            "With GNN: 66 / 98 (0.673469)\n",
            "With GNN, missing important links: 2 / 98 (0.020408)\n",
            "\n",
            "Node index: 500\n",
            "Without GNN: 81 / 100 (0.810000)\n",
            "With GNN: 78 / 100 (0.780000)\n",
            "With GNN, missing important links: 2 / 100 (0.020000)\n",
            "\n",
            "Node index: 505\n",
            "Without GNN: 63 / 84 (0.750000)\n",
            "With GNN: 60 / 84 (0.714286)\n",
            "With GNN, missing important links: 2 / 84 (0.023810)\n",
            "\n",
            "Node index: 510\n",
            "Without GNN: 121 / 134 (0.902985)\n",
            "With GNN: 117 / 134 (0.873134)\n",
            "With GNN, missing important links: 2 / 134 (0.014925)\n",
            "\n",
            "Node index: 515\n",
            "Without GNN: 99 / 111 (0.891892)\n",
            "With GNN: 94 / 111 (0.846847)\n",
            "With GNN, missing important links: 2 / 111 (0.018018)\n",
            "\n",
            "Node index: 520\n",
            "Without GNN: 117 / 130 (0.900000)\n",
            "With GNN: 111 / 130 (0.853846)\n",
            "With GNN, missing important links: 2 / 130 (0.015385)\n",
            "\n",
            "Node index: 525\n",
            "Without GNN: 94 / 106 (0.886792)\n",
            "With GNN: 87 / 106 (0.820755)\n",
            "With GNN, missing important links: 4 / 106 (0.037736)\n",
            "\n",
            "Node index: 530\n",
            "Without GNN: 131 / 139 (0.942446)\n",
            "With GNN: 128 / 139 (0.920863)\n",
            "With GNN, missing important links: 2 / 139 (0.014388)\n",
            "\n",
            "Node index: 535\n",
            "Without GNN: 117 / 126 (0.928571)\n",
            "With GNN: 114 / 126 (0.904762)\n",
            "With GNN, missing important links: 2 / 126 (0.015873)\n",
            "\n",
            "Node index: 540\n",
            "Without GNN: 104 / 119 (0.873950)\n",
            "With GNN: 98 / 119 (0.823529)\n",
            "With GNN, missing important links: 3 / 119 (0.025210)\n",
            "\n",
            "Node index: 545\n",
            "Without GNN: 122 / 135 (0.903704)\n",
            "With GNN: 117 / 135 (0.866667)\n",
            "With GNN, missing important links: 2 / 135 (0.014815)\n",
            "\n",
            "Node index: 550\n",
            "Without GNN: 81 / 110 (0.736364)\n",
            "With GNN: 77 / 110 (0.700000)\n",
            "With GNN, missing important links: 2 / 110 (0.018182)\n",
            "\n",
            "Node index: 555\n",
            "Without GNN: 155 / 161 (0.962733)\n",
            "With GNN: 151 / 161 (0.937888)\n",
            "With GNN, missing important links: 2 / 161 (0.012422)\n",
            "\n",
            "Node index: 560\n",
            "Without GNN: 127 / 138 (0.920290)\n",
            "With GNN: 123 / 138 (0.891304)\n",
            "With GNN, missing important links: 2 / 138 (0.014493)\n",
            "\n",
            "Node index: 565\n",
            "Without GNN: 108 / 117 (0.923077)\n",
            "With GNN: 104 / 117 (0.888889)\n",
            "With GNN, missing important links: 2 / 117 (0.017094)\n",
            "\n",
            "Node index: 570\n",
            "Without GNN: 79 / 92 (0.858696)\n",
            "With GNN: 72 / 92 (0.782609)\n",
            "With GNN, missing important links: 2 / 92 (0.021739)\n",
            "\n",
            "Node index: 575\n",
            "Without GNN: 94 / 112 (0.839286)\n",
            "With GNN: 88 / 112 (0.785714)\n",
            "With GNN, missing important links: 2 / 112 (0.017857)\n",
            "\n",
            "Node index: 580\n",
            "Without GNN: 49 / 79 (0.620253)\n",
            "With GNN: 43 / 79 (0.544304)\n",
            "With GNN, missing important links: 2 / 79 (0.025316)\n",
            "\n",
            "Node index: 585\n",
            "Without GNN: 22 / 59 (0.372881)\n",
            "With GNN: 18 / 59 (0.305085)\n",
            "With GNN, missing important links: 2 / 59 (0.033898)\n",
            "\n",
            "Node index: 590\n",
            "Without GNN: 76 / 91 (0.835165)\n",
            "With GNN: 72 / 91 (0.791209)\n",
            "With GNN, missing important links: 2 / 91 (0.021978)\n",
            "\n",
            "Node index: 595\n",
            "Without GNN: 108 / 122 (0.885246)\n",
            "With GNN: 105 / 122 (0.860656)\n",
            "With GNN, missing important links: 3 / 122 (0.024590)\n",
            "\n",
            "Node index: 600\n",
            "Without GNN: 57 / 103 (0.553398)\n",
            "With GNN: 52 / 103 (0.504854)\n",
            "With GNN, missing important links: 4 / 103 (0.038835)\n",
            "\n",
            "Node index: 605\n",
            "Without GNN: 75 / 93 (0.806452)\n",
            "With GNN: 71 / 93 (0.763441)\n",
            "With GNN, missing important links: 3 / 93 (0.032258)\n",
            "\n",
            "Node index: 610\n",
            "Without GNN: 90 / 110 (0.818182)\n",
            "With GNN: 87 / 110 (0.790909)\n",
            "With GNN, missing important links: 2 / 110 (0.018182)\n",
            "\n",
            "Node index: 615\n",
            "Without GNN: 39 / 67 (0.582090)\n",
            "With GNN: 36 / 67 (0.537313)\n",
            "With GNN, missing important links: 2 / 67 (0.029851)\n",
            "\n",
            "Node index: 620\n",
            "Without GNN: 43 / 75 (0.573333)\n",
            "With GNN: 41 / 75 (0.546667)\n",
            "With GNN, missing important links: 2 / 75 (0.026667)\n",
            "\n",
            "Node index: 625\n",
            "Without GNN: 31 / 57 (0.543860)\n",
            "With GNN: 25 / 57 (0.438596)\n",
            "With GNN, missing important links: 2 / 57 (0.035088)\n",
            "\n",
            "Node index: 630\n",
            "Without GNN: 59 / 78 (0.756410)\n",
            "With GNN: 56 / 78 (0.717949)\n",
            "With GNN, missing important links: 2 / 78 (0.025641)\n",
            "\n",
            "Node index: 635\n",
            "Without GNN: 36 / 64 (0.562500)\n",
            "With GNN: 33 / 64 (0.515625)\n",
            "With GNN, missing important links: 2 / 64 (0.031250)\n",
            "\n",
            "Node index: 640\n",
            "Without GNN: 73 / 91 (0.802198)\n",
            "With GNN: 69 / 91 (0.758242)\n",
            "With GNN, missing important links: 2 / 91 (0.021978)\n",
            "\n",
            "Node index: 645\n",
            "Without GNN: 72 / 87 (0.827586)\n",
            "With GNN: 68 / 87 (0.781609)\n",
            "With GNN, missing important links: 2 / 87 (0.022989)\n",
            "\n",
            "Node index: 650\n",
            "Without GNN: 111 / 119 (0.932773)\n",
            "With GNN: 108 / 119 (0.907563)\n",
            "With GNN, missing important links: 2 / 119 (0.016807)\n",
            "\n",
            "Node index: 655\n",
            "Without GNN: 76 / 98 (0.775510)\n",
            "With GNN: 73 / 98 (0.744898)\n",
            "With GNN, missing important links: 4 / 98 (0.040816)\n",
            "\n",
            "Node index: 660\n",
            "Without GNN: 59 / 92 (0.641304)\n",
            "With GNN: 55 / 92 (0.597826)\n",
            "With GNN, missing important links: 2 / 92 (0.021739)\n",
            "\n",
            "Node index: 665\n",
            "Without GNN: 35 / 72 (0.486111)\n",
            "With GNN: 31 / 72 (0.430556)\n",
            "With GNN, missing important links: 2 / 72 (0.027778)\n",
            "\n",
            "Node index: 670\n",
            "Without GNN: 45 / 72 (0.625000)\n",
            "With GNN: 41 / 72 (0.569444)\n",
            "With GNN, missing important links: 2 / 72 (0.027778)\n",
            "\n",
            "Node index: 675\n",
            "Without GNN: 38 / 61 (0.622951)\n",
            "With GNN: 35 / 61 (0.573770)\n",
            "With GNN, missing important links: 2 / 61 (0.032787)\n",
            "\n",
            "Node index: 680\n",
            "Without GNN: 56 / 66 (0.848485)\n",
            "With GNN: 50 / 66 (0.757576)\n",
            "With GNN, missing important links: 2 / 66 (0.030303)\n",
            "\n",
            "Node index: 685\n",
            "Without GNN: 64 / 82 (0.780488)\n",
            "With GNN: 58 / 82 (0.707317)\n",
            "With GNN, missing important links: 2 / 82 (0.024390)\n",
            "\n",
            "Node index: 690\n",
            "Without GNN: 35 / 81 (0.432099)\n",
            "With GNN: 30 / 81 (0.370370)\n",
            "With GNN, missing important links: 3 / 81 (0.037037)\n",
            "\n",
            "Node index: 695\n",
            "Without GNN: 154 / 166 (0.927711)\n",
            "With GNN: 151 / 166 (0.909639)\n",
            "With GNN, missing important links: 3 / 166 (0.018072)\n",
            "\n"
          ],
          "name": "stdout"
        }
      ]
    },
    {
      "cell_type": "code",
      "metadata": {
        "colab": {
          "base_uri": "https://localhost:8080/"
        },
        "id": "1EUGs0ROxkyg",
        "outputId": "2f51875a-733c-40e6-89b6-fe05159c3c8d"
      },
      "source": [
        "adj_mask.argmax(1)"
      ],
      "execution_count": null,
      "outputs": [
        {
          "output_type": "execute_result",
          "data": {
            "text/plain": [
              "tensor([[ 79, 157,  36,   5,  49, 134,  32,  14,  60,  11, 157,   9, 143, 109,\n",
              "          92, 157,   6,  40,  88,   9,  12,  60,  57,   3, 151,  17,  99,  34,\n",
              "          17,   4,  34,   2,   6,   6, 134,  13,   2,   6, 125,  34,  17,  93,\n",
              "           8, 151,  11,   2,   6,  11, 132, 132,  26, 140, 126,  10,  76,   1,\n",
              "           4, 132, 134,   6,  14, 134,  61,  69,  58,   8, 157, 138,  58,  63,\n",
              "         122,  34,  11,   6,   5,   4,  54,   3, 151,   0,  64,  31,  11, 151,\n",
              "           5,  18,   2,  14,  18, 117, 119,  93,  14,  41,   5,  34,  60,   9,\n",
              "          87,  26,   5,  84,   6,  58,   5,   5,  30,  66, 157,  13,  61,   4,\n",
              "          32,  61,  79, 121,  94,  89,  57,  90,  10,  34,  84,  33,  71,  38,\n",
              "          52,  69,   8,  61,  58, 124, 134,   5, 161,  10,  30,  89,  67,   6,\n",
              "          61,   5, 155,  12,   1, 147,  10, 145,  34,   1,   5, 134,  20,   5,\n",
              "          10,  58,  22, 161,   5,  61, 108, 162, 161, 162, 163, 162]])"
            ]
          },
          "metadata": {
            "tags": []
          },
          "execution_count": 205
        }
      ]
    },
    {
      "cell_type": "markdown",
      "metadata": {
        "id": "a-2Qk2cLagmY"
      },
      "source": [
        "# Reference"
      ]
    },
    {
      "cell_type": "code",
      "metadata": {
        "colab": {
          "base_uri": "https://localhost:8080/"
        },
        "id": "7BwSz1NsIw6E",
        "outputId": "b54dfa1b-3eea-4a1a-f8b4-929abd9c0c23"
      },
      "source": [
        "dir(models.GcnEncoderNode)"
      ],
      "execution_count": null,
      "outputs": [
        {
          "output_type": "execute_result",
          "data": {
            "text/plain": [
              "['T_destination',\n",
              " '__annotations__',\n",
              " '__call__',\n",
              " '__class__',\n",
              " '__delattr__',\n",
              " '__dict__',\n",
              " '__dir__',\n",
              " '__doc__',\n",
              " '__eq__',\n",
              " '__format__',\n",
              " '__ge__',\n",
              " '__getattr__',\n",
              " '__getattribute__',\n",
              " '__gt__',\n",
              " '__hash__',\n",
              " '__init__',\n",
              " '__init_subclass__',\n",
              " '__le__',\n",
              " '__lt__',\n",
              " '__module__',\n",
              " '__ne__',\n",
              " '__new__',\n",
              " '__reduce__',\n",
              " '__reduce_ex__',\n",
              " '__repr__',\n",
              " '__setattr__',\n",
              " '__setstate__',\n",
              " '__sizeof__',\n",
              " '__str__',\n",
              " '__subclasshook__',\n",
              " '__weakref__',\n",
              " '_apply',\n",
              " '_call_impl',\n",
              " '_get_name',\n",
              " '_load_from_state_dict',\n",
              " '_named_members',\n",
              " '_register_load_state_dict_pre_hook',\n",
              " '_register_state_dict_hook',\n",
              " '_replicate_for_data_parallel',\n",
              " '_save_to_state_dict',\n",
              " '_slow_forward',\n",
              " '_version',\n",
              " 'add_module',\n",
              " 'apply',\n",
              " 'apply_bn',\n",
              " 'bfloat16',\n",
              " 'buffers',\n",
              " 'build_conv_layers',\n",
              " 'build_pred_layers',\n",
              " 'children',\n",
              " 'construct_mask',\n",
              " 'cpu',\n",
              " 'cuda',\n",
              " 'double',\n",
              " 'dump_patches',\n",
              " 'eval',\n",
              " 'extra_repr',\n",
              " 'float',\n",
              " 'forward',\n",
              " 'gcn_forward',\n",
              " 'half',\n",
              " 'load_state_dict',\n",
              " 'loss',\n",
              " 'modules',\n",
              " 'named_buffers',\n",
              " 'named_children',\n",
              " 'named_modules',\n",
              " 'named_parameters',\n",
              " 'parameters',\n",
              " 'register_backward_hook',\n",
              " 'register_buffer',\n",
              " 'register_forward_hook',\n",
              " 'register_forward_pre_hook',\n",
              " 'register_parameter',\n",
              " 'requires_grad_',\n",
              " 'share_memory',\n",
              " 'state_dict',\n",
              " 'to',\n",
              " 'train',\n",
              " 'type',\n",
              " 'zero_grad']"
            ]
          },
          "metadata": {
            "tags": []
          },
          "execution_count": 52
        }
      ]
    }
  ]
}